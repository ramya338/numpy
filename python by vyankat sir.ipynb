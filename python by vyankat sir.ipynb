{
 "cells": [
  {
   "cell_type": "code",
   "execution_count": 2,
   "id": "cb2264f5-83dc-42dd-9a38-aace9b301725",
   "metadata": {},
   "outputs": [],
   "source": [
    "#multipilaction of numpy array\n",
    "import numpy as np"
   ]
  },
  {
   "cell_type": "code",
   "execution_count": 6,
   "id": "868e5011-eb5e-4544-aae6-c17b3ada5e5e",
   "metadata": {},
   "outputs": [
    {
     "name": "stdout",
     "output_type": "stream",
     "text": [
      "multiplication:\n",
      " [[ 7 16 27]\n",
      " [40 55 72]]\n"
     ]
    }
   ],
   "source": [
    "array1 = np.array([[1,2,3],\n",
    "                   [4,5,6]])\n",
    "array2 = np.array([[7,8,9],\n",
    "                  [10,11,12]])\n",
    "\n",
    "product_array =array1*array2\n",
    "print(\"multiplication:\\n\",product_array)"
   ]
  },
  {
   "cell_type": "code",
   "execution_count": 9,
   "id": "cd8ec53a-334e-46ae-9c46-5ead34afe831",
   "metadata": {},
   "outputs": [
    {
     "name": "stdout",
     "output_type": "stream",
     "text": [
      "multiplication:\n",
      " [[ 1  8 18]\n",
      " [ 4 24 48]]\n"
     ]
    }
   ],
   "source": [
    "array1 = np.array([[1,2,3],\n",
    "                   [4,6,8]])\n",
    "array2 = np.array([1,4,6])\n",
    "\n",
    "product_array =array1*array2\n",
    "print(\"multiplication:\\n\",product_array)"
   ]
  },
  {
   "cell_type": "code",
   "execution_count": null,
   "id": "6f5a3acd-e254-4d66-aa68-4c6747023536",
   "metadata": {},
   "outputs": [],
   "source": [
    "# matrix multiplication"
   ]
  },
  {
   "cell_type": "markdown",
   "id": "3ef4161a-e115-4aae-b983-b5201d7e0f5e",
   "metadata": {},
   "source": []
  },
  {
   "cell_type": "code",
   "execution_count": 46,
   "id": "d39a124a-f133-49a5-b248-2ba96c745c45",
   "metadata": {},
   "outputs": [],
   "source": [
    "x1=np.random.randint(0,10,(2,2))\n",
    "x2=np.random.randint(0,10,(2,2))"
   ]
  },
  {
   "cell_type": "code",
   "execution_count": 47,
   "id": "cb50a5f6-dfe1-431f-9383-487916b9daea",
   "metadata": {},
   "outputs": [
    {
     "data": {
      "text/plain": [
       "array([[7, 4],\n",
       "       [3, 0]])"
      ]
     },
     "execution_count": 47,
     "metadata": {},
     "output_type": "execute_result"
    }
   ],
   "source": [
    "x1"
   ]
  },
  {
   "cell_type": "code",
   "execution_count": 48,
   "id": "56c5077f-cc24-45f0-af7c-b7414741c456",
   "metadata": {},
   "outputs": [
    {
     "data": {
      "text/plain": [
       "array([[1, 9],\n",
       "       [6, 2]])"
      ]
     },
     "execution_count": 48,
     "metadata": {},
     "output_type": "execute_result"
    }
   ],
   "source": [
    "x2"
   ]
  },
  {
   "cell_type": "code",
   "execution_count": 49,
   "id": "f014baed-480e-4bda-a0bb-59a2d367558f",
   "metadata": {},
   "outputs": [
    {
     "data": {
      "text/plain": [
       "array([[31, 71],\n",
       "       [ 3, 27]])"
      ]
     },
     "execution_count": 49,
     "metadata": {},
     "output_type": "execute_result"
    }
   ],
   "source": [
    "np.dot(x1,x2)"
   ]
  },
  {
   "cell_type": "code",
   "execution_count": 51,
   "id": "767c7427-dc96-43db-940f-968a7113bb3a",
   "metadata": {},
   "outputs": [],
   "source": [
    "x1=np.random.randint(0,10,(2,3))\n",
    "x2=np.random.randint(0,10,(3,2))"
   ]
  },
  {
   "cell_type": "code",
   "execution_count": 52,
   "id": "366ef9b9-e210-445d-868d-6dcf9fc6c42c",
   "metadata": {},
   "outputs": [
    {
     "data": {
      "text/plain": [
       "array([[0, 5, 2],\n",
       "       [8, 0, 2]])"
      ]
     },
     "execution_count": 52,
     "metadata": {},
     "output_type": "execute_result"
    }
   ],
   "source": [
    "x1"
   ]
  },
  {
   "cell_type": "code",
   "execution_count": 54,
   "id": "f92807c2-d692-4e83-8f0a-1ff47cc2da41",
   "metadata": {},
   "outputs": [
    {
     "data": {
      "text/plain": [
       "array([[7, 9],\n",
       "       [1, 8],\n",
       "       [7, 9]])"
      ]
     },
     "execution_count": 54,
     "metadata": {},
     "output_type": "execute_result"
    }
   ],
   "source": [
    "x2"
   ]
  },
  {
   "cell_type": "code",
   "execution_count": 55,
   "id": "efc42a76-0bed-433d-b072-58b779ab4342",
   "metadata": {},
   "outputs": [
    {
     "data": {
      "text/plain": [
       "array([[19, 58],\n",
       "       [70, 90]])"
      ]
     },
     "execution_count": 55,
     "metadata": {},
     "output_type": "execute_result"
    }
   ],
   "source": [
    "np.dot(x1,x2)"
   ]
  },
  {
   "cell_type": "code",
   "execution_count": null,
   "id": "c0abb8c3-9c66-49e8-94b2-3ff9a116edd2",
   "metadata": {},
   "outputs": [],
   "source": [
    "#string functions"
   ]
  },
  {
   "cell_type": "code",
   "execution_count": 57,
   "id": "e565bf47-b385-4575-9545-163841b1801c",
   "metadata": {},
   "outputs": [],
   "source": [
    "x=np.array([1,2,3,'data'])"
   ]
  },
  {
   "cell_type": "code",
   "execution_count": 58,
   "id": "20151479-2690-43dc-8f52-b13dee472f48",
   "metadata": {},
   "outputs": [
    {
     "data": {
      "text/plain": [
       "array(['1', '2', '3', 'data'], dtype='<U11')"
      ]
     },
     "execution_count": 58,
     "metadata": {},
     "output_type": "execute_result"
    }
   ],
   "source": [
    "x"
   ]
  },
  {
   "cell_type": "code",
   "execution_count": 60,
   "id": "fb2d76ec-ec4a-49c2-889c-2f2d2b8ac815",
   "metadata": {},
   "outputs": [
    {
     "data": {
      "text/plain": [
       "array(['1', '2', '3', 'Data'], dtype='<U11')"
      ]
     },
     "execution_count": 60,
     "metadata": {},
     "output_type": "execute_result"
    }
   ],
   "source": [
    "np.char.capitalize(x)"
   ]
  },
  {
   "cell_type": "code",
   "execution_count": 61,
   "id": "87faf945-5480-411c-8e43-d723196404da",
   "metadata": {},
   "outputs": [
    {
     "data": {
      "text/plain": [
       "array(['****1*****', '****2*****', '****3*****', '***data***'],\n",
       "      dtype='<U10')"
      ]
     },
     "execution_count": 61,
     "metadata": {},
     "output_type": "execute_result"
    }
   ],
   "source": [
    "np.char.center(x,10,fillchar='*')"
   ]
  },
  {
   "cell_type": "code",
   "execution_count": 68,
   "id": "885c5377-1d69-4ca7-9895-ddb332107c7f",
   "metadata": {},
   "outputs": [],
   "source": [
    "x=np.array([1,2,3,'data engineering'])"
   ]
  },
  {
   "cell_type": "code",
   "execution_count": 69,
   "id": "e122f12e-9116-439c-844b-42f23dde098e",
   "metadata": {},
   "outputs": [
    {
     "data": {
      "text/plain": [
       "array(['1', '2', '3', 'data engineering'], dtype='<U16')"
      ]
     },
     "execution_count": 69,
     "metadata": {},
     "output_type": "execute_result"
    }
   ],
   "source": [
    "x"
   ]
  },
  {
   "cell_type": "code",
   "execution_count": 67,
   "id": "6df30049-f5b0-45d6-bf35-783fb9c69b76",
   "metadata": {},
   "outputs": [
    {
     "name": "stdout",
     "output_type": "stream",
     "text": [
      "['1' '2' '3' 'DATA ENGINEERING']\n",
      "['1' '2' '3' 'data engineering']\n",
      "['1' '2' '3' 'Data Engineering']\n"
     ]
    }
   ],
   "source": [
    "print(np.char.upper(x))\n",
    "print(np.char.lower(x))\n",
    "print(np.char.title(x))"
   ]
  },
  {
   "cell_type": "code",
   "execution_count": 71,
   "id": "8a8abfac-ecdb-4fdd-a575-bafd6253ba28",
   "metadata": {},
   "outputs": [],
   "source": [
    "y=np.array([\"data science\",\"machine learning\"])"
   ]
  },
  {
   "cell_type": "code",
   "execution_count": 78,
   "id": "03721aae-ed45-464c-a2ef-9c9fa68fda79",
   "metadata": {},
   "outputs": [
    {
     "data": {
      "text/plain": [
       "array([list(['data sci', 'nc', '']), list(['machin', ' l', 'arning'])],\n",
       "      dtype=object)"
      ]
     },
     "execution_count": 78,
     "metadata": {},
     "output_type": "execute_result"
    }
   ],
   "source": [
    "np.char.split(y,sep='e')"
   ]
  },
  {
   "cell_type": "code",
   "execution_count": 73,
   "id": "91877dde-ff1a-4377-af2d-bc77fda146a6",
   "metadata": {},
   "outputs": [
    {
     "data": {
      "text/plain": [
       "array([2, 2])"
      ]
     },
     "execution_count": 73,
     "metadata": {},
     "output_type": "execute_result"
    }
   ],
   "source": [
    "np.char.count(y,\"a\")"
   ]
  },
  {
   "cell_type": "code",
   "execution_count": 76,
   "id": "99ec207b-63a2-444b-a0d8-56202dffb289",
   "metadata": {},
   "outputs": [
    {
     "data": {
      "text/plain": [
       "array([ True, False])"
      ]
     },
     "execution_count": 76,
     "metadata": {},
     "output_type": "execute_result"
    }
   ],
   "source": [
    "np.char.startswith(y,\"d\")"
   ]
  },
  {
   "cell_type": "code",
   "execution_count": 79,
   "id": "7ed6a9ed-f269-4fd8-9f74-a2148fd65fec",
   "metadata": {},
   "outputs": [
    {
     "data": {
      "text/plain": [
       "array(['dxxxxxtxxxxx science', 'mxxxxxchine lexxxxxrning'], dtype='<U24')"
      ]
     },
     "execution_count": 79,
     "metadata": {},
     "output_type": "execute_result"
    }
   ],
   "source": [
    "np.char.replace(y,'a','xxxxx')"
   ]
  },
  {
   "cell_type": "code",
   "execution_count": 80,
   "id": "ca4f3d7c-eb19-4982-816d-700b5580ea88",
   "metadata": {},
   "outputs": [
    {
     "data": {
      "text/plain": [
       "array(['********data science', '****machine learning'], dtype='<U20')"
      ]
     },
     "execution_count": 80,
     "metadata": {},
     "output_type": "execute_result"
    }
   ],
   "source": [
    "np.char.rjust(y,20,fillchar=\"*\")"
   ]
  },
  {
   "cell_type": "code",
   "execution_count": null,
   "id": "f9623508-967b-49e9-9fd0-973b3172bcc9",
   "metadata": {},
   "outputs": [],
   "source": [
    "#time based functions"
   ]
  },
  {
   "cell_type": "code",
   "execution_count": null,
   "id": "a7a37a8c-bce0-4332-a771-97792f0d9a1e",
   "metadata": {},
   "outputs": [],
   "source": [
    "#division of arrays"
   ]
  },
  {
   "cell_type": "code",
   "execution_count": 84,
   "id": "7b379364-97a9-45e7-895a-f451a0373193",
   "metadata": {},
   "outputs": [
    {
     "name": "stdout",
     "output_type": "stream",
     "text": [
      "division:\n",
      " [[ 3.33333333  6.8         6.22222222]\n",
      " [ 5.66666667  8.125      16.75      ]]\n",
      "float64\n"
     ]
    }
   ],
   "source": [
    "array1 = np.array([[10,34,56],\n",
    "                   [34,65,67]])\n",
    "array2 = np.array([[3,5,9],\n",
    "                   [6,8,4]])\n",
    "division_array=array1/array2\n",
    "print(\"division:\\n\",division_array)\n",
    "print(division_array.dtype)"
   ]
  },
  {
   "cell_type": "code",
   "execution_count": null,
   "id": "f319e135-ced0-4f2f-8718-eaaa5b7a6382",
   "metadata": {},
   "outputs": [],
   "source": [
    "#calculating the exponential"
   ]
  },
  {
   "cell_type": "code",
   "execution_count": 85,
   "id": "c5ceb7ec-97d3-4a83-a3ed-235271eab7f5",
   "metadata": {},
   "outputs": [
    {
     "name": "stdout",
     "output_type": "stream",
     "text": [
      "orginal array:\n",
      " [1 2 3 4 5]\n"
     ]
    }
   ],
   "source": [
    "a=np.array([1,2,3,4,5])\n",
    "exp_a =np.exp(a)\n",
    "print(\"orginal array:\\n\",a)"
   ]
  },
  {
   "cell_type": "code",
   "execution_count": 86,
   "id": "35158b21-fc62-4898-b15a-e61546fe19e4",
   "metadata": {},
   "outputs": [
    {
     "name": "stdout",
     "output_type": "stream",
     "text": [
      "sqrt of a: [1.41421356 2.         2.44948974]\n",
      "exp of a: [  7.3890561   54.59815003 403.42879349]\n",
      "sin of a: [ 0.90929743 -0.7568025  -0.2794155 ]\n",
      "cos of a: [-0.41614684 -0.65364362  0.96017029]\n",
      "log of a: [0.69314718 1.38629436 1.79175947]\n"
     ]
    }
   ],
   "source": [
    "#expo,sqrt,sin,cos, log\n",
    "a=np.array([2,4,6])\n",
    "print(\"sqrt of a:\",np.sqrt(a))\n",
    "print(\"exp of a:\",np.exp(a))\n",
    "print(\"sin of a:\",np.sin(a))\n",
    "print(\"cos of a:\",np.cos(a))\n",
    "print(\"log of a:\",np.log(a))"
   ]
  },
  {
   "cell_type": "code",
   "execution_count": null,
   "id": "92077720-f66a-47ae-ac38-0123c0d5ace3",
   "metadata": {},
   "outputs": [],
   "source": [
    "#aggregete functions"
   ]
  },
  {
   "cell_type": "code",
   "execution_count": 13,
   "id": "225b92cc-7b83-4a1d-b07c-be608495c35b",
   "metadata": {},
   "outputs": [
    {
     "name": "stdout",
     "output_type": "stream",
     "text": [
      "sum: 45\n",
      "minimun value: 5.0\n",
      "mean value: 5.0\n",
      "median value: 5.0\n",
      "corelation coeffient: 1.0\n",
      "standrand deviation : 2.581988897471611\n"
     ]
    }
   ],
   "source": [
    "import numpy as np\n",
    "a=np.array([1,2,3,4,5,6,7,8,9])\n",
    "print(\"sum:\",np.sum(a))\n",
    "print(\"minimun value:\",np.mean(a))\n",
    "print(\"mean value:\",np.median(a))\n",
    "print(\"median value:\",np.median(a))\n",
    "print(\"corelation coeffient:\",np.corrcoef(a))\n",
    "print(\"standrand deviation :\",np.std(a))\n"
   ]
  },
  {
   "cell_type": "code",
   "execution_count": null,
   "id": "8a2d748b-63e3-44b4-ae1f-403b1fb27dad",
   "metadata": {},
   "outputs": [],
   "source": []
  },
  {
   "cell_type": "code",
   "execution_count": null,
   "id": "e4e29f28-7dee-4275-98e0-61850faeb78a",
   "metadata": {},
   "outputs": [],
   "source": []
  }
 ],
 "metadata": {
  "kernelspec": {
   "display_name": "Python 3 (ipykernel)",
   "language": "python",
   "name": "python3"
  },
  "language_info": {
   "codemirror_mode": {
    "name": "ipython",
    "version": 3
   },
   "file_extension": ".py",
   "mimetype": "text/x-python",
   "name": "python",
   "nbconvert_exporter": "python",
   "pygments_lexer": "ipython3",
   "version": "3.12.7"
  }
 },
 "nbformat": 4,
 "nbformat_minor": 5
}
