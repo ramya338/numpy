{
 "cells": [
  {
   "cell_type": "code",
   "execution_count": 2,
   "id": "9f9818c2-5595-43d3-815e-9b24a495c9fb",
   "metadata": {},
   "outputs": [],
   "source": [
    "#co-relation coefficient:\n",
    "import numpy as np"
   ]
  },
  {
   "cell_type": "code",
   "execution_count": 5,
   "id": "34ec88b8-b398-4e05-b0c9-e76ca90f07db",
   "metadata": {},
   "outputs": [],
   "source": [
    "data=np.random.randint(1,10,(5,5))"
   ]
  },
  {
   "cell_type": "code",
   "execution_count": 15,
   "id": "366b8f49-5b4b-4fb4-915a-d9ae141006ae",
   "metadata": {},
   "outputs": [
    {
     "data": {
      "text/plain": [
       "array([[8, 8, 3, 7, 5],\n",
       "       [4, 7, 6, 2, 8],\n",
       "       [7, 2, 4, 1, 7],\n",
       "       [5, 8, 1, 8, 8],\n",
       "       [6, 4, 6, 4, 4]])"
      ]
     },
     "execution_count": 15,
     "metadata": {},
     "output_type": "execute_result"
    }
   ],
   "source": [
    "data\n"
   ]
  },
  {
   "cell_type": "code",
   "execution_count": 8,
   "id": "daf39c8b-bed0-41d0-b113-f9ca0c09b279",
   "metadata": {},
   "outputs": [
    {
     "data": {
      "text/plain": [
       "array([[ 1.        , -0.35433072, -0.17454001,  0.63603088, -0.29475317],\n",
       "       [-0.35433072,  1.        ,  0.39653955,  0.        , -0.15161961],\n",
       "       [-0.17454001,  0.39653955,  1.        , -0.2046119 ,  0.4276686 ],\n",
       "       [ 0.63603088,  0.        , -0.2046119 ,  1.        , -0.88852332],\n",
       "       [-0.29475317, -0.15161961,  0.4276686 , -0.88852332,  1.        ]])"
      ]
     },
     "execution_count": 8,
     "metadata": {},
     "output_type": "execute_result"
    }
   ],
   "source": [
    "np.corrcoef(data)"
   ]
  },
  {
   "cell_type": "code",
   "execution_count": 11,
   "id": "41e2370d-3f33-462d-8428-69f0c4e0ec2d",
   "metadata": {},
   "outputs": [
    {
     "data": {
      "text/plain": [
       "array([[1, 0, 0, 0, 0],\n",
       "       [0, 0, 0, 0, 0],\n",
       "       [0, 0, 1, 0, 0],\n",
       "       [0, 0, 0, 1, 0],\n",
       "       [0, 0, 0, 0, 1]])"
      ]
     },
     "execution_count": 11,
     "metadata": {},
     "output_type": "execute_result"
    }
   ],
   "source": [
    "np.corrcoef(data).astype(int)"
   ]
  },
  {
   "cell_type": "code",
   "execution_count": null,
   "id": "f75b01c6-2ba4-48d5-881a-881a8d8bfa23",
   "metadata": {},
   "outputs": [],
   "source": [
    "#defining a function"
   ]
  },
  {
   "cell_type": "code",
   "execution_count": 20,
   "id": "514fb703-c1e2-4541-a07d-6aa445e64e08",
   "metadata": {},
   "outputs": [],
   "source": [
    "def greet():\n",
    "    print(\"hello,world\")"
   ]
  },
  {
   "cell_type": "code",
   "execution_count": 22,
   "id": "47173da3-7506-41e2-a4b9-a243c8cf1555",
   "metadata": {},
   "outputs": [
    {
     "name": "stdout",
     "output_type": "stream",
     "text": [
      "hello,world\n"
     ]
    }
   ],
   "source": [
    "greet()"
   ]
  },
  {
   "cell_type": "code",
   "execution_count": 43,
   "id": "225b55ef-bc08-4f99-a85a-42282d22ba0f",
   "metadata": {},
   "outputs": [
    {
     "name": "stdout",
     "output_type": "stream",
     "text": [
      "good morning,coders!\n"
     ]
    }
   ],
   "source": [
    "def greet (arg):\n",
    "    print (f\"good morning,{arg}!\")\n",
    "greet(\"coders\")"
   ]
  },
  {
   "cell_type": "code",
   "execution_count": 49,
   "id": "841f6ca8-aef9-4242-91af-03331571a986",
   "metadata": {},
   "outputs": [
    {
     "name": "stdout",
     "output_type": "stream",
     "text": [
      "good morning,ramya!\n"
     ]
    }
   ],
   "source": [
    "greet(\"ramya\")"
   ]
  },
  {
   "cell_type": "code",
   "execution_count": null,
   "id": "21f31e81-ca37-4ded-a85f-1d7af3690d8d",
   "metadata": {},
   "outputs": [],
   "source": [
    "#return statement"
   ]
  },
  {
   "cell_type": "code",
   "execution_count": 61,
   "id": "def1471f-0bcb-4574-89ad-8238642dce2f",
   "metadata": {},
   "outputs": [
    {
     "name": "stdout",
     "output_type": "stream",
     "text": [
      "60\n"
     ]
    }
   ],
   "source": [
    "def multiply(a,b,c):\n",
    "    return a*b*c\n",
    "\n",
    "result=multiply(3,5,4)\n",
    "print(result)"
   ]
  },
  {
   "cell_type": "code",
   "execution_count": 63,
   "id": "9fb2b964-02f2-495f-9538-f4ad394c960f",
   "metadata": {},
   "outputs": [
    {
     "data": {
      "text/plain": [
       "108"
      ]
     },
     "execution_count": 63,
     "metadata": {},
     "output_type": "execute_result"
    }
   ],
   "source": [
    "multiply(3,4,9)"
   ]
  },
  {
   "cell_type": "code",
   "execution_count": 72,
   "id": "c1760a98-3fb8-4bde-9243-2c6497f8f585",
   "metadata": {},
   "outputs": [
    {
     "name": "stdout",
     "output_type": "stream",
     "text": [
      "0.6\n"
     ]
    }
   ],
   "source": [
    "def division(a,b):\n",
    "    return a/b\n",
    "\n",
    "result=division(3,5)\n",
    "print(result)"
   ]
  },
  {
   "cell_type": "code",
   "execution_count": 77,
   "id": "510545cf-2818-4fd1-9bad-3b75ecef3e45",
   "metadata": {},
   "outputs": [
    {
     "name": "stdout",
     "output_type": "stream",
     "text": [
      "6\n",
      "30\n"
     ]
    }
   ],
   "source": [
    "def add(*args):\n",
    "    return sum(args)\n",
    "\n",
    "print(add(1,2,3))\n",
    "print(add(4,5,6,7,8))"
   ]
  },
  {
   "cell_type": "code",
   "execution_count": null,
   "id": "3edfde85-ab23-4e80-a6b4-f7e65a680343",
   "metadata": {},
   "outputs": [],
   "source": []
  },
  {
   "cell_type": "code",
   "execution_count": 81,
   "id": "2a86246c-71a5-47fb-9398-faf6ffe2a5ac",
   "metadata": {},
   "outputs": [
    {
     "name": "stdout",
     "output_type": "stream",
     "text": [
      "name:alice\n",
      "age:30\n",
      "city:new york\n"
     ]
    }
   ],
   "source": [
    "def print_details(**kwargs):\n",
    "    for key, value in kwargs.items():\n",
    "        print(f\"{key}:{value}\")\n",
    "\n",
    "print_details(name=\"alice\",age =30,city=\"new york\")"
   ]
  },
  {
   "cell_type": "code",
   "execution_count": null,
   "id": "0bf60401-dc2d-495a-b768-e7bf45891c18",
   "metadata": {},
   "outputs": [],
   "source": [
    "#lamda functions\n"
   ]
  },
  {
   "cell_type": "code",
   "execution_count": 8,
   "id": "a96d5443-108d-454a-ae9e-b28dc8d31223",
   "metadata": {},
   "outputs": [
    {
     "name": "stdout",
     "output_type": "stream",
     "text": [
      "13\n"
     ]
    }
   ],
   "source": [
    "add =lambda a,b:a+b\n",
    "print(add(8,5))"
   ]
  },
  {
   "cell_type": "code",
   "execution_count": 5,
   "id": "b6e26226-d40b-4f4e-85f8-2641ef73a380",
   "metadata": {},
   "outputs": [
    {
     "name": "stdout",
     "output_type": "stream",
     "text": [
      "10\n"
     ]
    }
   ],
   "source": [
    "def add(a,b):\n",
    "    return a+b\n",
    "print(add(6,4))"
   ]
  },
  {
   "cell_type": "code",
   "execution_count": 9,
   "id": "0e7f5966-380d-4992-a878-a004984eefa0",
   "metadata": {},
   "outputs": [
    {
     "name": "stdout",
     "output_type": "stream",
     "text": [
      "42\n"
     ]
    }
   ],
   "source": [
    "multiply=lambda a,b:a*b\n",
    "print(multiply(6,7))"
   ]
  },
  {
   "cell_type": "code",
   "execution_count": null,
   "id": "65a533ba-54c1-4984-a5c2-886f239a6d7e",
   "metadata": {},
   "outputs": [],
   "source": [
    "#creat a function to find square of a number"
   ]
  },
  {
   "cell_type": "code",
   "execution_count": 10,
   "id": "38ea937a-0fb5-4e0e-aebd-a6ef9729ec6c",
   "metadata": {},
   "outputs": [
    {
     "name": "stdout",
     "output_type": "stream",
     "text": [
      "25\n"
     ]
    }
   ],
   "source": [
    "square = lambda x:x*x\n",
    "print(square (5))"
   ]
  },
  {
   "cell_type": "code",
   "execution_count": 20,
   "id": "7a9962dc-44cc-4793-a09c-df52b9e4134e",
   "metadata": {},
   "outputs": [
    {
     "name": "stdout",
     "output_type": "stream",
     "text": [
      "125\n"
     ]
    }
   ],
   "source": [
    "cube = lambda x:x*x*x\n",
    "print(cube (5))"
   ]
  },
  {
   "cell_type": "code",
   "execution_count": 21,
   "id": "3cb7a6de-99ee-41ce-8957-5764eb627a65",
   "metadata": {},
   "outputs": [
    {
     "name": "stdout",
     "output_type": "stream",
     "text": [
      "-1\n"
     ]
    }
   ],
   "source": [
    "z=lambda x,y,:x-y\n",
    "print(z(5,6))"
   ]
  },
  {
   "cell_type": "code",
   "execution_count": null,
   "id": "1b9106dc-614c-4ca5-9028-28f690da35dc",
   "metadata": {},
   "outputs": [],
   "source": [
    "#python arrays:"
   ]
  },
  {
   "cell_type": "code",
   "execution_count": 25,
   "id": "c3cd63ed-a849-4f35-be62-5fb5e49d5328",
   "metadata": {},
   "outputs": [],
   "source": [
    "import array as ar"
   ]
  },
  {
   "cell_type": "code",
   "execution_count": 29,
   "id": "0466fba2-9b4c-492b-8c94-7bb2421eae3a",
   "metadata": {},
   "outputs": [],
   "source": [
    "#creating an array\n",
    "\n",
    "eg_array=ar.array('i',[1,2,3,4,5])"
   ]
  },
  {
   "cell_type": "code",
   "execution_count": null,
   "id": "9f41a356-5a6d-4ca3-b0b7-fdd9428038d8",
   "metadata": {},
   "outputs": [],
   "source": []
  },
  {
   "cell_type": "code",
   "execution_count": null,
   "id": "5e08112c-8c86-498e-9e1a-2fdae078953e",
   "metadata": {},
   "outputs": [],
   "source": []
  },
  {
   "cell_type": "code",
   "execution_count": null,
   "id": "1adbc217-5938-47c9-a504-8f51ae7728b2",
   "metadata": {},
   "outputs": [],
   "source": []
  },
  {
   "cell_type": "code",
   "execution_count": null,
   "id": "bae036fa-cc73-4f7d-8c5a-4596599f5713",
   "metadata": {},
   "outputs": [],
   "source": []
  },
  {
   "cell_type": "code",
   "execution_count": null,
   "id": "06e1d402-368c-4fb8-9a1b-88b17886e013",
   "metadata": {},
   "outputs": [],
   "source": []
  },
  {
   "cell_type": "code",
   "execution_count": null,
   "id": "a86f112a-4640-4163-8f4e-a45131c5232e",
   "metadata": {},
   "outputs": [],
   "source": []
  }
 ],
 "metadata": {
  "kernelspec": {
   "display_name": "Python 3 (ipykernel)",
   "language": "python",
   "name": "python3"
  },
  "language_info": {
   "codemirror_mode": {
    "name": "ipython",
    "version": 3
   },
   "file_extension": ".py",
   "mimetype": "text/x-python",
   "name": "python",
   "nbconvert_exporter": "python",
   "pygments_lexer": "ipython3",
   "version": "3.12.7"
  }
 },
 "nbformat": 4,
 "nbformat_minor": 5
}
